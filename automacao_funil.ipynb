{
 "cells": [
  {
   "cell_type": "markdown",
   "id": "5c9a94da",
   "metadata": {},
   "source": [
    "# Automação do dashboard "
   ]
  },
  {
   "cell_type": "code",
   "execution_count": 1,
   "id": "ec6afa0c",
   "metadata": {},
   "outputs": [],
   "source": [
    "#imports\n",
    "\n",
    "import pandas as pd\n",
    "import os\n",
    "\n",
    "#defini o maximo de colunas que o pandas mostra por padrão\n",
    "pd.options.display.max_columns = 100"
   ]
  },
  {
   "cell_type": "code",
   "execution_count": 2,
   "id": "813dd625",
   "metadata": {},
   "outputs": [],
   "source": [
    "#importar datasets\n",
    "df1 = pd.read_csv('dados/Funil Mes.csv', encoding='latin-1')\n"
   ]
  },
  {
   "cell_type": "code",
   "execution_count": 3,
   "id": "eb01f0c6",
   "metadata": {},
   "outputs": [],
   "source": [
    "#importar dataset das colunas\n",
    "df1_colum = pd.read_excel('dados/Colunas/Funil Mes colums.xlsx')\n",
    "\n"
   ]
  },
  {
   "cell_type": "code",
   "execution_count": 4,
   "id": "00f0a733",
   "metadata": {},
   "outputs": [],
   "source": [
    "#cria lista com o nome das colunas do dataset\n",
    "colunas1 = df1_colum.columns.tolist()\n",
    "\n"
   ]
  },
  {
   "cell_type": "code",
   "execution_count": 5,
   "id": "5e0f0f81",
   "metadata": {},
   "outputs": [],
   "source": [
    "#deleta as colunas que não estão na lista\n",
    "df1 = df1.loc[:, colunas1]\n",
    "\n"
   ]
  },
  {
   "cell_type": "code",
   "execution_count": 6,
   "id": "daf208bb",
   "metadata": {},
   "outputs": [],
   "source": [
    "\n",
    "def formatar_valor(df):\n",
    "    # substitui ponto por vírgula na coluna \"Valor\"\n",
    "    df['Valor'] = df['Valor'].replace('.', ',', regex=True)\n",
    "    \n",
    "    # converte a coluna \"Valor\" para o tipo monetário\n",
    "    df['Valor'] = pd.to_numeric(df['Valor'], errors='coerce')\n",
    "    \n",
    "    # formata a coluna \"Valor\" como tipo monetário\n",
    "    df['Valor'] = df['Valor'].apply(lambda x: '{:,.2f}'.format(x).replace(',', 'v').replace('.', ',').replace('v', '.'))    \n",
    "    return df"
   ]
  },
  {
   "cell_type": "code",
   "execution_count": 7,
   "id": "bf531746",
   "metadata": {
    "scrolled": true
   },
   "outputs": [],
   "source": [
    "df1 = formatar_valor(df1)\n"
   ]
  },
  {
   "cell_type": "code",
   "execution_count": 8,
   "id": "13234f8a",
   "metadata": {},
   "outputs": [],
   "source": [
    "def salvar_dataframe(dataframe, nome_arquivo):\n",
    "    # Define o caminho onde o arquivo será salvo\n",
    "    caminho_salvar = 'C:\\\\Users\\\\Gustavo\\\\Documents\\\\Mont seguro\\\\Funil\\\\'\n",
    "    # Define o nome completo do arquivo, incluindo o caminho\n",
    "    caminho_completo = os.path.join(caminho_salvar, nome_arquivo)\n",
    "    # Salva o DataFrame em um arquivo Excel\n",
    "    dataframe.to_excel(caminho_completo, index=False)"
   ]
  },
  {
   "cell_type": "code",
   "execution_count": 9,
   "id": "e70d0c38",
   "metadata": {},
   "outputs": [],
   "source": [
    "salvar_dataframe(df1, 'Funil Mes.xlsx')\n",
    "\n"
   ]
  }
 ],
 "metadata": {
  "kernelspec": {
   "display_name": "Python 3 (ipykernel)",
   "language": "python",
   "name": "python3"
  },
  "language_info": {
   "codemirror_mode": {
    "name": "ipython",
    "version": 3
   },
   "file_extension": ".py",
   "mimetype": "text/x-python",
   "name": "python",
   "nbconvert_exporter": "python",
   "pygments_lexer": "ipython3",
   "version": "3.9.13"
  }
 },
 "nbformat": 4,
 "nbformat_minor": 5
}
